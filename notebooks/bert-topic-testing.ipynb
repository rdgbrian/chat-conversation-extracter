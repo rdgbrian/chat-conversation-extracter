{
 "cells": [
  {
   "cell_type": "code",
   "execution_count": null,
   "metadata": {},
   "outputs": [],
   "source": [
    "from bertopic import BERTopic\n",
    "from sklearn.datasets import fetch_20newsgroups\n",
    "from matplotlib import pyplot as plt\n",
    "import pandas as pd"
   ]
  },
  {
   "cell_type": "code",
   "execution_count": null,
   "metadata": {},
   "outputs": [],
   "source": [
    "def normalize_unix_timestamp(df, column_name):\n",
    "    # Extract the column\n",
    "    column_values = df[column_name]\n",
    "    \n",
    "    # Min-Max normalization\n",
    "    min_value = column_values.min()\n",
    "    df[column_name + '_norm'] = (column_values - min_value)\n",
    "\n",
    "    return df\n",
    "\n",
    "def plot_histogram(df, column_name, bins = 20):\n",
    "    plt.hist(df[column_name], bins=bins, color='skyblue', edgecolor='black')\n",
    "    plt.title('Distribution of Normalized Unix Timestamp')\n",
    "    plt.xlabel('Normalized Value')\n",
    "    plt.ylabel('Frequency')\n",
    "    plt.show()"
   ]
  },
  {
   "cell_type": "code",
   "execution_count": null,
   "metadata": {},
   "outputs": [],
   "source": [
    "# Load your dataframe from CSV, replace 'your_data.csv' with your actual file path\n",
    "df = pd.read_csv('cap2.csv')\n",
    "\n",
    "# Assuming 'unix_timestamp' is the name of the column with Unix timestamps\n",
    "df = normalize_unix_timestamp(df, 'time')\n",
    "print(df.head)\n",
    "\n",
    "# Plot histogram of the normalized column\n",
    "plot_histogram(df, 'time_norm',bins=500)"
   ]
  },
  {
   "cell_type": "code",
   "execution_count": null,
   "metadata": {},
   "outputs": [],
   "source": [
    "import numpy as np\n",
    "from sklearn.cluster import AgglomerativeClustering\n",
    "import matplotlib.pyplot as plt"
   ]
  },
  {
   "cell_type": "code",
   "execution_count": null,
   "metadata": {},
   "outputs": [],
   "source": [
    "np.array(df['time_norm']).reshape(-1,1)"
   ]
  },
  {
   "cell_type": "code",
   "execution_count": null,
   "metadata": {},
   "outputs": [],
   "source": [
    "def fix_cluster_names(clusters):\n",
    "    renamed_clusters = []   \n",
    "    seen = set()\n",
    "    replace = 0\n",
    "    for value in clusters:\n",
    "        if value in seen:\n",
    "            renamed_clusters.append(replace)\n",
    "        else:\n",
    "            seen.add(value)\n",
    "            replace += 1\n",
    "            renamed_clusters.append(replace)\n",
    "    return renamed_clusters"
   ]
  },
  {
   "cell_type": "code",
   "execution_count": null,
   "metadata": {},
   "outputs": [],
   "source": [
    "times = np.array(df['time_norm']).reshape(-1,1)\n",
    "distance_threshold = 86400 / 86400 # the amount of seconds in a day\n",
    "model = AgglomerativeClustering(n_clusters = None, distance_threshold=distance_threshold, linkage='single')\n",
    "clusters = model.fit_predict(times)\n",
    "\n",
    "renamed_clusters = fix_cluster_names(clusters)"
   ]
  },
  {
   "cell_type": "code",
   "execution_count": null,
   "metadata": {},
   "outputs": [],
   "source": [
    "# Plotting the clusters\n",
    "plt.scatter(times, renamed_clusters, c=renamed_clusters, cmap='viridis')\n",
    "plt.xlabel('Data Points')\n",
    "plt.ylabel('Cluster Labels')\n",
    "plt.title('Agglomerative Clustering with Single-Linkage Distance and Distance Threshold')\n",
    "plt.show()"
   ]
  },
  {
   "cell_type": "code",
   "execution_count": null,
   "metadata": {},
   "outputs": [],
   "source": [
    "df['cluster'] = renamed_clusters"
   ]
  },
  {
   "cell_type": "code",
   "execution_count": null,
   "metadata": {},
   "outputs": [],
   "source": [
    "df.head()"
   ]
  },
  {
   "cell_type": "code",
   "execution_count": null,
   "metadata": {},
   "outputs": [],
   "source": [
    "df['message_content'][0]"
   ]
  },
  {
   "cell_type": "code",
   "execution_count": null,
   "metadata": {},
   "outputs": [],
   "source": [
    "df['message_content'].apply(type).unique()"
   ]
  },
  {
   "cell_type": "code",
   "execution_count": null,
   "metadata": {},
   "outputs": [],
   "source": [
    "float_values_B = df.loc[df['message_content'].apply(lambda x: isinstance(x, float)), 'message_content']\n",
    "float_values_B"
   ]
  },
  {
   "cell_type": "code",
   "execution_count": null,
   "metadata": {},
   "outputs": [],
   "source": [
    "df['message_content'] = df['message_content'].fillna('')\n",
    "clustered_text = df.groupby('cluster')['message_content'].apply(lambda x: ' '.join(x)).reset_index()"
   ]
  },
  {
   "cell_type": "code",
   "execution_count": null,
   "metadata": {},
   "outputs": [],
   "source": [
    "clustered_text"
   ]
  },
  {
   "cell_type": "code",
   "execution_count": null,
   "metadata": {},
   "outputs": [],
   "source": [
    "from sklearn.feature_extraction.text import CountVectorizer\n",
    "\n",
    "vectorizer_model = CountVectorizer(stop_words=\"english\")\n",
    "topic_model = BERTopic(vectorizer_model=vectorizer_model)\n",
    "\n",
    "docs = clustered_text['message_content']\n",
    "topics, probs = topic_model.fit_transform(docs)"
   ]
  },
  {
   "cell_type": "code",
   "execution_count": null,
   "metadata": {},
   "outputs": [],
   "source": [
    "clustered_text"
   ]
  },
  {
   "cell_type": "code",
   "execution_count": null,
   "metadata": {},
   "outputs": [],
   "source": [
    "topics"
   ]
  },
  {
   "cell_type": "code",
   "execution_count": null,
   "metadata": {},
   "outputs": [],
   "source": [
    "clustered_text['topic'] = topics"
   ]
  },
  {
   "cell_type": "code",
   "execution_count": null,
   "metadata": {},
   "outputs": [],
   "source": [
    "topic_model.get_topic_info()"
   ]
  },
  {
   "cell_type": "code",
   "execution_count": null,
   "metadata": {},
   "outputs": [],
   "source": [
    "topic_model.get_topic_info()"
   ]
  },
  {
   "cell_type": "code",
   "execution_count": null,
   "metadata": {},
   "outputs": [],
   "source": [
    "df['topic'] = df.apply(lambda row: clustered_text.loc[row['cluster'] == clustered_text['cluster'], 'topic'].values[0] if row['cluster'] in clustered_text['cluster'].values else None, axis=1)"
   ]
  },
  {
   "cell_type": "code",
   "execution_count": null,
   "metadata": {},
   "outputs": [],
   "source": [
    "df"
   ]
  },
  {
   "cell_type": "code",
   "execution_count": null,
   "metadata": {},
   "outputs": [],
   "source": [
    "topic_model.get_representative_docs(18)"
   ]
  },
  {
   "cell_type": "code",
   "execution_count": null,
   "metadata": {},
   "outputs": [],
   "source": [
    "plt.scatter(clustered_text['cluster'], topics, c=topics, cmap='viridis')\n",
    "plt.xlabel('Data Points')\n",
    "plt.ylabel('Cluster Labels')\n",
    "plt.title('Agglomerative Clustering with Single-Linkage Distance and Distance Threshold')\n",
    "plt.show()"
   ]
  },
  {
   "cell_type": "code",
   "execution_count": null,
   "metadata": {},
   "outputs": [],
   "source": [
    "# import pandas as pd\n",
    "# from IPython.display import display, HTML\n",
    "\n",
    "# # Sample DataFrame\n",
    "# data = {\n",
    "#     'message_topic': [1, 2, 1, 3, 2],\n",
    "#     'phone_number': ['123-456-7890', '987-654-3210', '123-456-7890', '456-789-0123', '987-654-3210'],\n",
    "#     'message_content': [\n",
    "#         'Hello! How are you?', 'I am good, thanks!', 'What are you doing?', 'Just chilling.', 'Want to hang out?'\n",
    "#     ]\n",
    "# }\n",
    "# df = pd.DataFrame(data)\n",
    "\n",
    "# # Define colors for message topics (you can customize these)\n",
    "# color_mapping = {\n",
    "#     1: 'blue',\n",
    "#     2: 'green',\n",
    "#     3: 'orange'\n",
    "# }\n",
    "\n",
    "# # Function to generate HTML with colored messages\n",
    "# def colorize_messages(row):\n",
    "#     color = color_mapping.get(row['message_topic'], 'black')\n",
    "#     return f'<div style=\"color: {color};\"><strong>Topic {row[\"message_topic\"]}: </strong>{row[\"message_content\"]}</div>'\n",
    "\n",
    "# # Apply the colorize_messages function to create a new column with colored messages\n",
    "# df['colored_message'] = df.apply(colorize_messages, axis=1)\n",
    "# print(df.head())\n",
    "# # Display the DataFrame with colored messages\n",
    "# html_output = df[['phone_number', 'colored_message']].to_html(index=False, escape=False)\n",
    "# display(HTML(html_output))"
   ]
  },
  {
   "cell_type": "code",
   "execution_count": null,
   "metadata": {},
   "outputs": [],
   "source": [
    "import numpy as np\n",
    "\n",
    "vector1 = np.array([442,8,2])\n",
    "vector2 = np.array([5, 3982, 3325])\n",
    "\n",
    "vector1 = np.array([5,1683,1670])\n",
    "vector2 = np.array([5, 3982, 3325])\n",
    "\n",
    "def bruh(vector1,vector2):\n",
    "    # Calculate the norm (magnitude) of each vector\n",
    "    norm_vector1 = np.linalg.norm(vector1)\n",
    "    norm_vector2 = np.linalg.norm(vector2)\n",
    "\n",
    "    # Calculate the dot product of the two vectors\n",
    "    dot_product = np.dot(vector1, vector2)\n",
    "\n",
    "    print(\"Norm of vector1:\", norm_vector1)\n",
    "    print(\"Norm of vector2:\", norm_vector2)\n",
    "    print(\"Dot product of vector1 and vector2:\", dot_product)\n",
    "\n",
    "    print(\"cosine similarity:\", dot_product/(norm_vector1*norm_vector2))\n",
    "\n",
    "bruh(vector1,vector2)"
   ]
  },
  {
   "cell_type": "code",
   "execution_count": null,
   "metadata": {},
   "outputs": [],
   "source": []
  }
 ],
 "metadata": {
  "kernelspec": {
   "display_name": "pytorch",
   "language": "python",
   "name": "python3"
  },
  "language_info": {
   "codemirror_mode": {
    "name": "ipython",
    "version": 3
   },
   "file_extension": ".py",
   "mimetype": "text/x-python",
   "name": "python",
   "nbconvert_exporter": "python",
   "pygments_lexer": "ipython3",
   "version": "3.11.5"
  }
 },
 "nbformat": 4,
 "nbformat_minor": 2
}
